{
 "cells": [
  {
   "cell_type": "markdown",
   "metadata": {},
   "source": [
    "#### Читаем данные:"
   ]
  },
  {
   "cell_type": "code",
   "execution_count": 1,
   "metadata": {},
   "outputs": [
    {
     "data": {
      "text/plain": [
       "Intitializing Scala interpreter ..."
      ]
     },
     "metadata": {},
     "output_type": "display_data"
    },
    {
     "data": {
      "text/plain": [
       "Spark Web UI available at http://e14c60f0b525:4040\n",
       "SparkContext available as 'sc' (version = 3.0.1, master = local[*], app id = local-1604873783815)\n",
       "SparkSession available as 'spark'\n"
      ]
     },
     "metadata": {},
     "output_type": "display_data"
    },
    {
     "data": {
      "text/plain": [
       "import org.apache.spark.sql._\n",
       "import org.apache.spark.sql.functions._\n",
       "import org.apache.spark.sql.expressions._\n",
       "spark: org.apache.spark.sql.SparkSession = org.apache.spark.sql.SparkSession@3ef137e2\n",
       "recipes: org.apache.spark.sql.DataFrame = [name: string, id: int ... 10 more fields]\n",
       "interactions: org.apache.spark.sql.DataFrame = [user_id: int, recipe_id: int ... 3 more fields]\n"
      ]
     },
     "execution_count": 1,
     "metadata": {},
     "output_type": "execute_result"
    }
   ],
   "source": [
    "import org.apache.spark.sql._\n",
    "import org.apache.spark.sql.functions._\n",
    "import org.apache.spark.sql.expressions._\n",
    "\n",
    "val spark = org.apache.spark.sql.SparkSession.builder\n",
    "        .master(\"local\")\n",
    "        .appName(\"Spark CSV Reader\")\n",
    "        .getOrCreate;\n",
    "\n",
    " val recipes = spark.read\n",
    "        .format(\"csv\")\n",
    "        .option(\"header\", \"true\")\n",
    "        .option(\"inferSchema\", \"true\")\n",
    "        .load(\"recipes.csv\")\n",
    "\n",
    " val interactions = spark.read\n",
    "        .format(\"csv\")\n",
    "        .option(\"header\", \"true\")\n",
    "        .option(\"inferSchema\", \"true\")\n",
    "        .load(\"interactions.csv\")"
   ]
  },
  {
   "cell_type": "code",
   "execution_count": 2,
   "metadata": {},
   "outputs": [
    {
     "name": "stdout",
     "output_type": "stream",
     "text": [
      "+------------------+\n",
      "|count(DISTINCT id)|\n",
      "+------------------+\n",
      "|            231637|\n",
      "+------------------+\n",
      "\n"
     ]
    }
   ],
   "source": [
    "recipes.selectExpr(\"count(distinct id)\").show()"
   ]
  },
  {
   "cell_type": "markdown",
   "metadata": {},
   "source": [
    "0. Посмотрите на данные"
   ]
  },
  {
   "cell_type": "code",
   "execution_count": null,
   "metadata": {},
   "outputs": [],
   "source": [
    "recipes.printSchema; interactions.printSchema"
   ]
  },
  {
   "cell_type": "markdown",
   "metadata": {},
   "source": [
    "Итак `recipes` - состоит из 12 колонок, `interactions` -  из 5. Кажется данные взяты с какого-то кулираного сайта, где пользователи смотрят рецепты и комментируют"
   ]
  },
  {
   "cell_type": "markdown",
   "metadata": {},
   "source": [
    "1. Найдите пользователя с максимальным количеством отзывов"
   ]
  },
  {
   "cell_type": "code",
   "execution_count": null,
   "metadata": {},
   "outputs": [],
   "source": [
    "interactions\n",
    "    .groupBy(\"user_id\")\n",
    "    .agg(count(\"*\") as \"feedbacks\")\n",
    "    .orderBy(-$\"feedbacks\")\n",
    "    .take(1)\n",
    "\n",
    "// ответ: user_id 424680"
   ]
  },
  {
   "cell_type": "markdown",
   "metadata": {},
   "source": [
    "**ANS: 424680**"
   ]
  },
  {
   "cell_type": "markdown",
   "metadata": {},
   "source": [
    "2. Найдите пользователя, который потратил больше всех времени на готовку (придумайте как это примерно посчитать с имеющимися данными)"
   ]
  },
  {
   "cell_type": "code",
   "execution_count": 73,
   "metadata": {},
   "outputs": [
    {
     "name": "stdout",
     "output_type": "stream",
     "text": [
      "+-------+-----------+-----------+\n",
      "|user_id|cnt_recipie|minutes_sum|\n",
      "+-------+-----------+-----------+\n",
      "| 424680|       7671| 2148367661|\n",
      "| 222564|       2073| 2148016493|\n",
      "| 482376|       1719| 2147619603|\n",
      "| 573325|       1207| 2147569146|\n",
      "| 237123|        462| 2147556014|\n",
      "| 315565|       1015| 2147551999|\n",
      "| 213139|        857| 2147550635|\n",
      "| 228458|        622| 2147524546|\n",
      "| 407007|        453| 2147511110|\n",
      "| 385678|        336| 2147501802|\n",
      "+-------+-----------+-----------+\n",
      "only showing top 10 rows\n",
      "\n"
     ]
    }
   ],
   "source": [
    "interactions\n",
    "    .select(\"user_id\", \"recipe_id\")\n",
    "    .join(recipes, interactions(\"recipe_id\") === recipes(\"id\"), \"inner\")\n",
    "    .groupBy(\"user_id\")\n",
    "    .agg(\n",
    "        count(\"*\") as \"cnt_recipie\",\n",
    "        sum(\"minutes\") as \"minutes_sum\"\n",
    "    )\n",
    "    .orderBy(-$\"minutes_sum\")\n",
    "    .show(10)\n",
    "\n",
    "//Ans: 424680"
   ]
  },
  {
   "cell_type": "code",
   "execution_count": 213,
   "metadata": {},
   "outputs": [
    {
     "data": {
      "text/plain": [
       "res180: Long = 7671\n"
      ]
     },
     "execution_count": 213,
     "metadata": {},
     "output_type": "execute_result"
    }
   ],
   "source": [
    "interactions\n",
    "    .join(recipes, interactions(\"recipe_id\") === recipes(\"id\"), \"inner\")\n",
    "    .filter($\"user_id\" === 424680)\n",
    "    .select(\"user_id\", \"minutes\", \"recipe_id\")\n",
    "    .count"
   ]
  },
  {
   "cell_type": "markdown",
   "metadata": {},
   "source": [
    "**ANS: 424680**"
   ]
  },
  {
   "cell_type": "markdown",
   "metadata": {},
   "source": [
    "3. Найдите пользователя, который дольше всего пользуется сайтом (придумайте как это примерно посчитать с имеющимися данными)\n"
   ]
  },
  {
   "cell_type": "code",
   "execution_count": 85,
   "metadata": {},
   "outputs": [
    {
     "name": "stdout",
     "output_type": "stream",
     "text": [
      "+----------+\n",
      "|      date|\n",
      "+----------+\n",
      "|2003-02-17|\n",
      "|2011-12-21|\n",
      "|2002-12-01|\n",
      "|2010-02-27|\n",
      "|2011-10-01|\n",
      "|2005-05-21|\n",
      "|2011-08-06|\n",
      "|2015-05-10|\n",
      "|2005-09-02|\n",
      "|2005-12-22|\n",
      "+----------+\n",
      "only showing top 10 rows\n",
      "\n"
     ]
    }
   ],
   "source": [
    "interactions\n",
    "    .select($\"date\")\n",
    "    .show(10)"
   ]
  },
  {
   "cell_type": "code",
   "execution_count": 120,
   "metadata": {},
   "outputs": [
    {
     "data": {
      "text/plain": [
       "firstDate: Array[org.apache.spark.sql.Row] = Array([2000-01-25])\n"
      ]
     },
     "execution_count": 120,
     "metadata": {},
     "output_type": "execute_result"
    }
   ],
   "source": [
    "val firstDate = interactions\n",
    "                    .selectExpr(\"min(date)\")\n",
    "                    .take(2)\n",
    "\n",
    "val firstDate_str = firstDate(0).getString(0)"
   ]
  },
  {
   "cell_type": "code",
   "execution_count": 126,
   "metadata": {},
   "outputs": [
    {
     "name": "stdout",
     "output_type": "stream",
     "text": [
      "+-------+\n",
      "|user_id|\n",
      "+-------+\n",
      "|   2008|\n",
      "|   2008|\n",
      "+-------+\n",
      "\n"
     ]
    }
   ],
   "source": [
    "interactions\n",
    "    .filter($\"date\" === firstDate_str)\n",
    "    .select(\"user_id\")\n",
    "    .show"
   ]
  },
  {
   "cell_type": "code",
   "execution_count": null,
   "metadata": {},
   "outputs": [],
   "source": [
    "// check\n",
    "\n",
    "interactions\n",
    "    .filter($\"user_id\" === 2008)\n",
    "    .show"
   ]
  },
  {
   "cell_type": "markdown",
   "metadata": {},
   "source": [
    "**Ответ: 2008**"
   ]
  },
  {
   "cell_type": "markdown",
   "metadata": {},
   "source": [
    "4. Найдите пользователя, который берёт только новые рецепты (придумайте как это примерно посчитать с имеющимися данными)"
   ]
  },
  {
   "cell_type": "code",
   "execution_count": 15,
   "metadata": {},
   "outputs": [
    {
     "name": "stdout",
     "output_type": "stream",
     "text": [
      "+----------+--------+------------+\n",
      "|   user_id|cnt_meal|sum_per_user|\n",
      "+----------+--------+------------+\n",
      "|     67344|       4|           0|\n",
      "|    543644|       4|           0|\n",
      "|    238395|       3|           0|\n",
      "|1803072009|       2|           0|\n",
      "|   2734292|       2|           0|\n",
      "|   2198435|       2|           0|\n",
      "|   1684663|       2|           0|\n",
      "|   1271572|       2|           0|\n",
      "|   2193344|       2|           0|\n",
      "|   2691191|       2|           0|\n",
      "|   2199258|       2|           0|\n",
      "|   1131759|       2|           0|\n",
      "|1803066303|       2|           0|\n",
      "|   2719902|       2|           0|\n",
      "|   2733922|       2|           0|\n",
      "|   1640593|       2|           0|\n",
      "|    560807|       1|           0|\n",
      "|    338428|       1|           0|\n",
      "|    579241|       1|           0|\n",
      "|   2688526|       1|           0|\n",
      "+----------+--------+------------+\n",
      "only showing top 20 rows\n",
      "\n"
     ]
    }
   ],
   "source": [
    "// не зыбть вместо отрицательный чисел поставить 0\n",
    "\n",
    "interactions\n",
    "    .join(recipes, interactions(\"recipe_id\") === recipes(\"id\"), \"inner\")\n",
    "    .select(\"user_id\", \"id\", \"date\", \"submitted\")\n",
    "    .withColumn(\"datediff_days\", datediff($\"date\", $\"submitted\"))\n",
    "    .where(\"datediff_days > -1\")\n",
    "    .groupBy(\"user_id\")\n",
    "    .agg(\n",
    "        count(\"*\") as \"cnt_meal\",\n",
    "        sum(\"datediff_days\") as \"sum_per_user\"\n",
    "    )\n",
    "    .orderBy(struct($\"sum_per_user\", -$\"cnt_meal\"))\n",
    "    .show\n"
   ]
  },
  {
   "cell_type": "markdown",
   "metadata": {},
   "source": [
    "### Проверка"
   ]
  },
  {
   "cell_type": "code",
   "execution_count": 16,
   "metadata": {},
   "outputs": [
    {
     "name": "stdout",
     "output_type": "stream",
     "text": [
      "+-------+---------+----------+------+--------------------+\n",
      "|user_id|recipe_id|      date|rating|              review|\n",
      "+-------+---------+----------+------+--------------------+\n",
      "|  67344|    50456|2003-01-08|     5|Unique and delicous!|\n",
      "|  67344|    50430|2003-01-08|     5|Light but satisfy...|\n",
      "|  67344|    50436|2003-01-08|     5|this was to die f...|\n",
      "|  67344|    50453|2003-01-08|     5|Light and quick d...|\n",
      "+-------+---------+----------+------+--------------------+\n",
      "\n"
     ]
    }
   ],
   "source": [
    "interactions\n",
    "    .filter($\"user_id\" === 67344)\n",
    "    .show"
   ]
  },
  {
   "cell_type": "code",
   "execution_count": 22,
   "metadata": {},
   "outputs": [
    {
     "name": "stdout",
     "output_type": "stream",
     "text": [
      "+-----+----------+--------------------+-------+\n",
      "|   id| submitted|                name|minutes|\n",
      "+-----+----------+--------------------+-------+\n",
      "|50456|2003-01-08|mom s famous grah...|    100|\n",
      "|50430|2003-01-08|teresa s 10 minut...|     13|\n",
      "|50436|2003-01-08|teresa s chicken ...|     25|\n",
      "|50453|2003-01-08|teresa s veal  or...|     15|\n",
      "+-----+----------+--------------------+-------+\n",
      "\n"
     ]
    }
   ],
   "source": [
    "recipes\n",
    "    .filter($\"id\" === 50456 || $\"id\" === 50430 || $\"id\" === 50436 || $\"id\" === 50453)\n",
    "    .select(\"id\", \"submitted\", \"name\", \"minutes\")\n",
    "    .show"
   ]
  },
  {
   "cell_type": "markdown",
   "metadata": {},
   "source": [
    "**Вывод:** Рецепты появились на сайте и были приготовлены в один день"
   ]
  },
  {
   "cell_type": "markdown",
   "metadata": {},
   "source": [
    "**Ответ:** 67344"
   ]
  },
  {
   "cell_type": "markdown",
   "metadata": {},
   "source": [
    "5. Найдите пользователя, который выбирает самые сложные рецепты. Метрика: 0.2 * (медианное количество шагов в выбранном рецепте) + 0.3 * (среднее количество ингредиентов) + (длина описания, нормированная на максимальную длину описания)"
   ]
  },
  {
   "cell_type": "code",
   "execution_count": null,
   "metadata": {},
   "outputs": [],
   "source": [
    "val max_descr = recipes\n",
    "                    .selectExpr(\"max(description) as m\")\n",
    "                    .take(1)\n",
    "\n",
    "val max_descr_str_length = max_descr(0).getString(0).length.toFloat"
   ]
  },
  {
   "cell_type": "code",
   "execution_count": null,
   "metadata": {},
   "outputs": [],
   "source": [
    "val metrics = recipes\n",
    "    .select(\n",
    "        $\"id\" as \"recipe_id\",\n",
    "        $\"n_steps\",\n",
    "        $\"n_ingredients\",\n",
    "        length($\"description\") as \"desc_len\"\n",
    "    )\n",
    "    .withColumn(\"n_ingredients\", $\"n_ingredients\")\n",
    "    .filter($\"n_ingredients\" isNotNull)"
   ]
  },
  {
   "cell_type": "code",
   "execution_count": 350,
   "metadata": {},
   "outputs": [
    {
     "name": "stdout",
     "output_type": "stream",
     "text": [
      "+-------+---------------+---------+-------------------+----------------+\n",
      "|user_id|ingredients_cnt|steps_cnt|     desc_normalize|          metric|\n",
      "+-------+---------------+---------+-------------------+----------------+\n",
      "| 171610|         2006.0|        3|0.03699551569506727|602.436995515695|\n",
      "+-------+---------------+---------+-------------------+----------------+\n",
      "only showing top 1 row\n",
      "\n"
     ]
    },
    {
     "data": {
      "text/plain": [
       "warning: there was one feature warning; for details, enable `:setting -feature' or `:replay -feature'\n",
       "recipes_cast: org.apache.spark.sql.Dataset[org.apache.spark.sql.Row] = [name: string, id: int ... 10 more fields]\n"
      ]
     },
     "execution_count": 350,
     "metadata": {},
     "output_type": "execute_result"
    }
   ],
   "source": [
    "val recipes_cast = recipes\n",
    "    .withColumn(\"n_ingredients\", $\"n_ingredients\" cast(\"Int\"))\n",
    "    .withColumn(\"n_steps\", $\"n_steps\" cast(\"Int\"))\n",
    "    .filter($\"n_ingredients\" isNotNull)\n",
    "\n",
    "interactions\n",
    "    .select(\"user_id\", \"recipe_id\")\n",
    "    .join(recipes_cast, $\"user_id\" === $\"id\")\n",
    "    .groupBy(\"user_id\")\n",
    "    .agg(\n",
    "        mean(\"n_ingredients\") as \"ingredients_cnt\",\n",
    "        callUDF(\"percentile_approx\", col(\"n_steps\"), lit(0.5)) as \"steps_cnt\", //медиана\n",
    "        mean(length($\"description\")) / max_descr_str_length as \"desc_normalize\"\n",
    "    )\n",
    "    .withColumn(\"metric\", $\"steps_cnt\" * 0.2 + $\"ingredients_cnt\" * 0.3 + $\"desc_normalize\")\n",
    "    .orderBy(-$\"metric\")\n",
    "    .show(1)"
   ]
  },
  {
   "cell_type": "markdown",
   "metadata": {},
   "source": [
    "**Ответ: 171610**"
   ]
  },
  {
   "cell_type": "markdown",
   "metadata": {},
   "source": [
    "6. Найдите количество пользователей, которые выбирают наиболее разнообразную пищу. 2 вариации:\n",
    "    1. На основании тэгов\n",
    "    2. На основании лемматизированных описаний и TF-IDF"
   ]
  },
  {
   "cell_type": "code",
   "execution_count": 298,
   "metadata": {},
   "outputs": [
    {
     "data": {
      "text/plain": [
       "uniqueTags: org.apache.spark.sql.Dataset[org.apache.spark.sql.Row] = [user_id: int, unique_tags_count: bigint]\n"
      ]
     },
     "execution_count": 298,
     "metadata": {},
     "output_type": "execute_result"
    }
   ],
   "source": [
    "val cnt_recipe_per_user = recipes\n",
    "    .join(interactions, interactions(\"recipe_id\") === recipes(\"id\"), \"inner\")\n",
    "    .groupBy( \"user_id\")\n",
    "    .agg(count(\"*\").cast(\"float\") as \"cnt\")\n",
    "\n",
    "val uniqueTags = recipes\n",
    "    .select($\"id\" as \"recipe_id\", explode(split(expr(\"substring(tags, 2, length(tags) - 1)\"), \",\")) as \"tags\")\n",
    "    .join(interactions.select(\"user_id\", \"recipe_id\"), Seq(\"recipe_id\"))\n",
    "    .groupBy(\"user_id\")\n",
    "    .agg(countDistinct(\"tags\") as \"unique_tags_cnt\")\n",
    "    .orderBy(-$\"unique_tags_cnt\")"
   ]
  },
  {
   "cell_type": "code",
   "execution_count": 317,
   "metadata": {},
   "outputs": [
    {
     "name": "stdout",
     "output_type": "stream",
     "text": [
      "+-------+-----------------+-------+------+-------------------+\n",
      "|user_id|unique_tags_count|user_id|   cnt|           avg_tags|\n",
      "+-------+-----------------+-------+------+-------------------+\n",
      "| 424680|              643| 424680|7671.0|0.08382218745926216|\n",
      "|  37449|              606|  37449|5603.0|0.10815634481527753|\n",
      "| 169430|              580| 169430|4076.0| 0.1422963689892051|\n",
      "| 128473|              578| 128473|3917.0| 0.1475619096247128|\n",
      "|  58104|              571|  58104|3288.0|  0.173661800486618|\n",
      "| 133174|              559| 133174|3107.0| 0.1799163179916318|\n",
      "| 107135|              557| 107135|2020.0|0.27574257425742577|\n",
      "| 383346|              551| 383346|4628.0|0.11905790838375108|\n",
      "| 226863|              551| 226863|2874.0|0.19171885873347252|\n",
      "|  80353|              548|  80353|2220.0|0.24684684684684685|\n",
      "| 498271|              542| 498271|2644.0|0.20499243570347958|\n",
      "| 131126|              541| 131126|2138.0| 0.2530402245088868|\n",
      "|  89831|              534|  89831|3353.0|0.15926036385326572|\n",
      "| 107583|              528| 107583|2252.0| 0.2344582593250444|\n",
      "|  39835|              523|  39835|2260.0|0.23141592920353982|\n",
      "| 486725|              522| 486725|1776.0| 0.2939189189189189|\n",
      "|1072593|              522|1072593|2350.0| 0.2221276595744681|\n",
      "| 126440|              519| 126440|1950.0|0.26615384615384613|\n",
      "| 305531|              519| 305531|2902.0|  0.178842177808408|\n",
      "| 204024|              514| 204024|1595.0|0.32225705329153603|\n",
      "+-------+-----------------+-------+------+-------------------+\n",
      "only showing top 20 rows\n",
      "\n"
     ]
    }
   ],
   "source": [
    "// первая ячейка\n",
    "\n",
    "uniqueTags\n",
    "    .join(cnt_recipe_per_user, cnt_recipe_per_user(\"user_id\") === uniqueTags(\"user_id\"))\n",
    "    .withColumn(\"avg_tags\", $\"unique_tags_cnt\"/$\"cnt\") \n",
    "    .orderBy(-$\"unique_tags_cnt\")\n",
    "    .show"
   ]
  },
  {
   "cell_type": "code",
   "execution_count": 318,
   "metadata": {},
   "outputs": [
    {
     "name": "stdout",
     "output_type": "stream",
     "text": [
      "+----------+-----------------+----------+---+--------+\n",
      "|   user_id|unique_tags_count|   user_id|cnt|avg_tags|\n",
      "+----------+-----------------+----------+---+--------+\n",
      "|1803050464|               68|1803050464|1.0|    68.0|\n",
      "|1802640046|               68|1802640046|1.0|    68.0|\n",
      "|1800225281|               68|1800225281|1.0|    68.0|\n",
      "|2001286124|               68|2001286124|1.0|    68.0|\n",
      "|   1434863|               68|   1434863|1.0|    68.0|\n",
      "|    852602|               68|    852602|1.0|    68.0|\n",
      "|   1112186|               68|   1112186|1.0|    68.0|\n",
      "|    246492|               68|    246492|1.0|    68.0|\n",
      "|2001985095|               68|2001985095|1.0|    68.0|\n",
      "|    191658|               68|    191658|1.0|    68.0|\n",
      "|     99971|               68|     99971|1.0|    68.0|\n",
      "|   1543399|               68|   1543399|1.0|    68.0|\n",
      "|   1376859|               68|   1376859|1.0|    68.0|\n",
      "|    412777|               68|    412777|1.0|    68.0|\n",
      "|    108682|               68|    108682|1.0|    68.0|\n",
      "|   1387886|               68|   1387886|1.0|    68.0|\n",
      "|    857412|               68|    857412|1.0|    68.0|\n",
      "|   2281963|               68|   2281963|1.0|    68.0|\n",
      "|   1245091|               68|   1245091|1.0|    68.0|\n",
      "|   2106013|               68|   2106013|1.0|    68.0|\n",
      "+----------+-----------------+----------+---+--------+\n",
      "only showing top 20 rows\n",
      "\n"
     ]
    }
   ],
   "source": [
    "// вторая ячейка\n",
    "\n",
    "uniqueTags\n",
    "    .join(cnt_recipe_per_user, cnt_recipe_per_user(\"user_id\") === uniqueTags(\"user_id\"), \"left\")\n",
    "    .withColumn(\"avg_tags\", $\"unique_tags_count\"/$\"cnt\") \n",
    "    .orderBy(-$\"avg_tags\")\n",
    "    .show"
   ]
  },
  {
   "cell_type": "markdown",
   "metadata": {},
   "source": [
    "**Ответ:**\n",
    "\n",
    "Условие можно понимать по-разнному, если интересует:\n",
    "\n",
    "    - *наиболее* разнообразный человек, то это 424680 (первая ячейка)\n",
    "    - максимальное соотношение числа тегов к количеству рецептов, то это список выше (вторая ячейка)"
   ]
  },
  {
   "cell_type": "markdown",
   "metadata": {},
   "source": [
    "7. \n",
    "\n",
    "\n",
    "а) Найдите медианное значение калорийности блюд, приготовленных пользователями с более чем 5-ю отзывами\n",
    "\n",
    "б) В качестве веса в медиане используйте количество отзывов на блюдо. Взвешенную медиану необходимо реализовать через оконные функции"
   ]
  },
  {
   "cell_type": "markdown",
   "metadata": {},
   "source": [
    "Для нахождения медианы используем `callUDF(\"percentile_approx\", $\"comment_count\", lit(0.5))`"
   ]
  },
  {
   "cell_type": "code",
   "execution_count": null,
   "metadata": {},
   "outputs": [],
   "source": [
    "// TODO: сначала понять"
   ]
  },
  {
   "cell_type": "markdown",
   "metadata": {},
   "source": [
    "8. Найдите слова в отзыве, которые наиболее коррелируют с хорошим рейтингом (4-5). Отфильтруйте слишком редкие слова"
   ]
  },
  {
   "cell_type": "code",
   "execution_count": 34,
   "metadata": {},
   "outputs": [
    {
     "name": "stdout",
     "output_type": "stream",
     "text": [
      "+----------+------------------+----------+\n",
      "|      word|       correlation|word_count|\n",
      "+----------+------------------+----------+\n",
      "| honkitten|               1.0|       348|\n",
      "|  gailanng|               1.0|       222|\n",
      "| honkitten|               1.0|       348|\n",
      "|  gailanng|               1.0|       222|\n",
      "|  adoptees| 0.998158379373849|      1086|\n",
      "|  adoptees| 0.998158379373849|      1086|\n",
      "|aussiekiwi|0.9960474308300395|       253|\n",
      "|aussiekiwi|0.9960474308300395|       253|\n",
      "| againmade|0.9957264957264957|       234|\n",
      "| againmade|0.9957264957264957|       234|\n",
      "|    boomie|0.9956709956709957|       231|\n",
      "|    boomie|0.9956709956709957|       231|\n",
      "| travelers|0.9955555555555555|       225|\n",
      "| travelers|0.9955555555555555|       225|\n",
      "| recipenap|0.9952380952380953|       210|\n",
      "| recipenap|0.9952380952380953|       210|\n",
      "|      pets|0.9951923076923077|       208|\n",
      "|      pets|0.9951923076923077|       208|\n",
      "|      kitz| 0.995049504950495|       202|\n",
      "|      kitz| 0.995049504950495|       202|\n",
      "+----------+------------------+----------+\n",
      "only showing top 20 rows\n",
      "\n",
      "Time: 50.71823024749756 seconds.\n",
      "\n"
     ]
    }
   ],
   "source": [
    "%%time\n",
    "\n",
    "// рабочее\n",
    "interactions\n",
    "    .select($\"rating\", explode(split(lower(regexp_replace($\"review\",\"[^a-zA-Z ]\", \"\")), \" \")) as \"word\")\n",
    "    .filter($\"word\" !== \"\")\n",
    "    .withColumn(\"word_count\", count(\"*\") over Window.partitionBy($\"word\")) // общее количество вхождения слова\n",
    "    .filter($\"word_count\" >= 200 && $\"rating\" > 3)\n",
    "    .withColumn(\"correlation\", count(\"*\") over Window.partitionBy($\"word\"))\n",
    "    .distinct\n",
    "    .select($\"word\", $\"correlation\" / $\"word_count\" as \"correlation\", $\"word_count\")\n",
    "    .orderBy(-$\"correlation\")\n",
    "    .show"
   ]
  },
  {
   "cell_type": "markdown",
   "metadata": {},
   "source": [
    "9. Найдите теги, блюда с которыми имеют в среднем худшие отзывы"
   ]
  },
  {
   "cell_type": "code",
   "execution_count": 6,
   "metadata": {},
   "outputs": [
    {
     "name": "stdout",
     "output_type": "stream",
     "text": [
      "+--------------------+------------------+\n",
      "|                 tag|       mean_rating|\n",
      "+--------------------+------------------+\n",
      "|      beef-crock-pot|               0.0|\n",
      "|lamb-sheep-main-dish|               0.0|\n",
      "|   main-dish-seafood|               0.0|\n",
      "|    shrimp-main-dish|               0.0|\n",
      "|           pot-roast|               0.0|\n",
      "|           bean-soup|               3.0|\n",
      "|     black-bean-soup|               3.0|\n",
      "|      main-dish-beef|               3.0|\n",
      "|       stews-poultry|3.3333333333333335|\n",
      "|                bear|3.6666666666666665|\n",
      "|    pressure-canning|3.6742424242424243|\n",
      "|       sugar-cookies| 3.707070707070707|\n",
      "|            honduran|3.7982456140350878|\n",
      "| unprocessed-freezer| 3.824915824915825|\n",
      "|fillings-and-fros...|3.9347826086956523|\n",
      "|            birthday| 3.944741532976827|\n",
      "|             jellies|3.9685714285714284|\n",
      "|          water-bath|3.9867256637168142|\n",
      "|    beef-barley-soup|               4.0|\n",
      "|high-in-something...|               4.0|\n",
      "+--------------------+------------------+\n",
      "only showing top 20 rows\n",
      "\n",
      "Time: 21.372616052627563 seconds.\n",
      "\n"
     ]
    }
   ],
   "source": [
    "%%time\n",
    "\n",
    "recipes\n",
    "    .select($\"id\", explode(split(expr(\"substring(tags, 2, length(tags)-1)\"), \", \")) as \"tag\")\n",
    "    .withColumn(\"tag\", trim($\"tag\", \"' []\"))\n",
    "    .join(interactions, $\"id\" === $\"recipe_id\")\n",
    "    .select(\"recipe_id\", \"rating\", \"tag\")\n",
    "    .groupBy(\"tag\")\n",
    "    .agg(mean(\"rating\") as \"mean_rating\")\n",
    "    .orderBy(\"mean_rating\")\n",
    "    .show"
   ]
  },
  {
   "cell_type": "markdown",
   "metadata": {},
   "source": [
    "10. Найдите contributor'а, который прислал:\n",
    "    1. Наиболее используемый рецепт\n",
    "    2. Наиболее высоко оцененный рецепт"
   ]
  },
  {
   "cell_type": "code",
   "execution_count": 11,
   "metadata": {},
   "outputs": [
    {
     "name": "stdout",
     "output_type": "stream",
     "text": [
      "+--------------+-------+----------+\n",
      "|contributor_id|max_cnt|max_rating|\n",
      "+--------------+-------+----------+\n",
      "|          1762|   1613|       5.0|\n",
      "+--------------+-------+----------+\n",
      "only showing top 1 row\n",
      "\n"
     ]
    },
    {
     "data": {
      "text/plain": [
       "recipeUserMetrics: Unit = ()\n"
      ]
     },
     "execution_count": 11,
     "metadata": {},
     "output_type": "execute_result"
    }
   ],
   "source": [
    "val recipeUserMetrics = \n",
    "interactions\n",
    "    .groupBy(\"recipe_id\")\n",
    "    .agg(count(\"*\") as \"cnt\", mean(\"rating\") as \"mean_rating\")\n",
    "    .join(recipes, $\"id\" === $\"recipe_id\")\n",
    "    .groupBy(\"contributor_id\")\n",
    "    .agg(max(\"cnt\") as \"max_cnt\", max(\"mean_rating\") as \"max_rating\")\n",
    "    .filter($\"max_rating\" === 5.0)\n",
    "    .orderBy(-$\"max_cnt\")\n",
    "    .show(1)"
   ]
  },
  {
   "cell_type": "markdown",
   "metadata": {},
   "source": [
    "11. Опишите процесс работы broadcast join"
   ]
  },
  {
   "cell_type": "markdown",
   "metadata": {},
   "source": [
    "`broadcast join` используются при join маленького датафрейма с большим, для оптимизации времени исполнения запроса.\n",
    "Spark - разделяет данные на разных узлах кластера, чтобы впоследствии обрабатывать запросы паралелльно. Понятно, что мы хотим минимизировать количество операций перебора которые происходят при join, поэтому просто закинем маленькую таблицу во все узлы кластера сразу(на все рабочие машины).  Как раз для этого и пользуеемся **broadcast**: `.join(broadcast(small_df_name), ...)`."
   ]
  },
  {
   "cell_type": "markdown",
   "metadata": {},
   "source": [
    "12. Опишите процесс работы cache и причины его использования"
   ]
  },
  {
   "attachments": {
    "1*PlhXq8tHCT7SndMc1G8W6A.png": {
     "image/png": "[encoded data removed]"
    }
   },
   "cell_type": "markdown",
   "metadata": {},
   "source": [
    "**Как работает?**\n",
    "\n",
    "На этапе планирование запроса spark делает следующее: \n",
    "\n",
    "![1*PlhXq8tHCT7SndMc1G8W6A.png](attachment:1*PlhXq8tHCT7SndMc1G8W6A.png)\n",
    "\n",
    "> \"When you run a query with an action, the query plan will be processed and transformed. In the step of the Cache Manager (just before the optimizer) Spark will check for each subtree of the analyzed plan if it is stored in the cachedData sequence. If it finds a match it means that the same plan (the same computation) has already been cached (perhaps in some previous query) and so Spark can use that and thus it adds that information to the query plan using the InMemoryRelation operator which will carry information about this cached plan.\"\n",
    "\n",
    "\n",
    "**Почему стоит использовать:**\n",
    "\n",
    "RDD.cache по-прежнему ленивая операция, которая \"ничего не делает\". Но если мы вызовем df.count 2 раза, то во второй раз spark достанет значение из кеша, а не будет его пересчитывать. Соответственно, если вы часто работаете с какими-то данными, стоит использовать .cache"
   ]
  },
  {
   "cell_type": "code",
   "execution_count": null,
   "metadata": {},
   "outputs": [],
   "source": []
  }
 ],
 "metadata": {
  "kernelspec": {
   "display_name": "spylon-kernel",
   "language": "scala",
   "name": "spylon-kernel"
  },
  "language_info": {
   "codemirror_mode": "text/x-scala",
   "file_extension": ".scala",
   "help_links": [
    {
     "text": "MetaKernel Magics",
     "url": "https://metakernel.readthedocs.io/en/latest/source/README.html"
    }
   ],
   "mimetype": "text/x-scala",
   "name": "scala",
   "pygments_lexer": "scala",
   "version": "0.4.1"
  }
 },
 "nbformat": 4,
 "nbformat_minor": 2
}
